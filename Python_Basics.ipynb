{
  "nbformat": 4,
  "nbformat_minor": 0,
  "metadata": {
    "colab": {
      "provenance": [],
      "mount_file_id": "13NjeV7_d01P_fHZx-X4lbK9_p04xIXOc",
      "authorship_tag": "ABX9TyOm3DiueQltomsjKKOX3WWG",
      "include_colab_link": true
    },
    "kernelspec": {
      "name": "python3",
      "display_name": "Python 3"
    },
    "language_info": {
      "name": "python"
    }
  },
  "cells": [
    {
      "cell_type": "markdown",
      "metadata": {
        "id": "view-in-github",
        "colab_type": "text"
      },
      "source": [
        "<a href=\"https://colab.research.google.com/github/Lakshana1786/MED23CL202/blob/main/Python_Basics.ipynb\" target=\"_parent\"><img src=\"https://colab.research.google.com/assets/colab-badge.svg\" alt=\"Open In Colab\"/></a>"
      ]
    },
    {
      "cell_type": "code",
      "execution_count": null,
      "metadata": {
        "id": "tbiwVAEHN9H9"
      },
      "outputs": [],
      "source": [
        "import os # importing operating system packages\n",
        "#get the current director\n",
        "os.getcwd()#cwd stands for current working directory\n",
        "os.chdir('/content/sample_data')"
      ]
    },
    {
      "cell_type": "code",
      "source": [],
      "metadata": {
        "id": "dlAwNW20aMwD"
      },
      "execution_count": null,
      "outputs": []
    },
    {
      "cell_type": "code",
      "source": [],
      "metadata": {
        "id": "hRDE0Z-9aOQb"
      },
      "execution_count": null,
      "outputs": []
    },
    {
      "cell_type": "markdown",
      "source": [
        "## Variables and data type\n"
      ],
      "metadata": {
        "id": "ZXmJXdpHPMQf"
      }
    },
    {
      "cell_type": "code",
      "source": [
        "l=31\n",
        "l+2"
      ],
      "metadata": {
        "colab": {
          "base_uri": "https://localhost:8080/"
        },
        "id": "BS_RKt0tPWf2",
        "outputId": "a3694a58-cbbe-482d-877c-b32bb841e0a6"
      },
      "execution_count": null,
      "outputs": [
        {
          "output_type": "execute_result",
          "data": {
            "text/plain": [
              "33"
            ]
          },
          "metadata": {},
          "execution_count": 17
        }
      ]
    },
    {
      "cell_type": "code",
      "source": [
        "l-24\n"
      ],
      "metadata": {
        "colab": {
          "base_uri": "https://localhost:8080/"
        },
        "id": "b8ozXgpqSdd4",
        "outputId": "1edbe292-8436-4091-b160-bd2e81864c6b"
      },
      "execution_count": null,
      "outputs": [
        {
          "output_type": "execute_result",
          "data": {
            "text/plain": [
              "7"
            ]
          },
          "metadata": {},
          "execution_count": 18
        }
      ]
    },
    {
      "cell_type": "code",
      "source": [
        "l*2"
      ],
      "metadata": {
        "colab": {
          "base_uri": "https://localhost:8080/"
        },
        "id": "TUszk6VESjxF",
        "outputId": "04576412-5596-4b7e-a5d3-e6d83a8e7d9f"
      },
      "execution_count": null,
      "outputs": [
        {
          "output_type": "execute_result",
          "data": {
            "text/plain": [
              "62"
            ]
          },
          "metadata": {},
          "execution_count": 19
        }
      ]
    },
    {
      "cell_type": "code",
      "source": [
        "l**2"
      ],
      "metadata": {
        "colab": {
          "base_uri": "https://localhost:8080/"
        },
        "id": "DzhcErr8Sojv",
        "outputId": "c08a236e-e289-45ba-da06-6a1d65c5b358"
      },
      "execution_count": null,
      "outputs": [
        {
          "output_type": "execute_result",
          "data": {
            "text/plain": [
              "961"
            ]
          },
          "metadata": {},
          "execution_count": 21
        }
      ]
    },
    {
      "cell_type": "code",
      "source": [
        "l%2"
      ],
      "metadata": {
        "colab": {
          "base_uri": "https://localhost:8080/"
        },
        "id": "ZrFhC6U-SvLk",
        "outputId": "8e1a0520-2c55-4595-9f06-8322c2a14c36"
      },
      "execution_count": null,
      "outputs": [
        {
          "output_type": "execute_result",
          "data": {
            "text/plain": [
              "1"
            ]
          },
          "metadata": {},
          "execution_count": 22
        }
      ]
    },
    {
      "cell_type": "code",
      "source": [
        "l/float(2)"
      ],
      "metadata": {
        "colab": {
          "base_uri": "https://localhost:8080/"
        },
        "id": "GE2gs2P3SycA",
        "outputId": "cb497c2d-ec2d-44c3-cd1b-2a35d9288414"
      },
      "execution_count": null,
      "outputs": [
        {
          "output_type": "execute_result",
          "data": {
            "text/plain": [
              "15.5"
            ]
          },
          "metadata": {},
          "execution_count": 23
        }
      ]
    },
    {
      "cell_type": "code",
      "source": [
        "int()#integer () function call\n",
        "float()# float\n",
        "bool()#boolean\n",
        "str()#string"
      ],
      "metadata": {
        "id": "dQswwI1MR8od"
      },
      "execution_count": null,
      "outputs": []
    },
    {
      "cell_type": "markdown",
      "source": [
        "###List"
      ],
      "metadata": {
        "id": "aekxOyZjUaQF"
      }
    },
    {
      "cell_type": "code",
      "source": [
        "a='rutu'\n",
        "b='raj'\n",
        "c='gaikwad'\n",
        "l=['my','fav','circketer','is',a,b]\n",
        "l"
      ],
      "metadata": {
        "colab": {
          "base_uri": "https://localhost:8080/"
        },
        "id": "P2v_3c1-Ufmu",
        "outputId": "bdc71bfb-a5ea-4c92-9997-ea078573baed"
      },
      "execution_count": null,
      "outputs": [
        {
          "output_type": "execute_result",
          "data": {
            "text/plain": [
              "['my', 'fav', 'circketer', 'is', 'rutu', 'raj']"
            ]
          },
          "metadata": {},
          "execution_count": 50
        }
      ]
    },
    {
      "cell_type": "code",
      "source": [
        "x=[]#empty list\n",
        "#define the list\n",
        "x1=['a','b','c']#char list is seprated by coma and include with single quotes\n",
        "x1#printing x1"
      ],
      "metadata": {
        "colab": {
          "base_uri": "https://localhost:8080/"
        },
        "id": "IwX2ugb_WoiD",
        "outputId": "5a0991fd-16a6-4e36-c527-7ed529d8eea5"
      },
      "execution_count": null,
      "outputs": [
        {
          "output_type": "execute_result",
          "data": {
            "text/plain": [
              "['a', 'b', 'c']"
            ]
          },
          "metadata": {},
          "execution_count": 41
        }
      ]
    },
    {
      "cell_type": "code",
      "source": [
        "x#printing x"
      ],
      "metadata": {
        "colab": {
          "base_uri": "https://localhost:8080/"
        },
        "id": "UH930WjSW3wu",
        "outputId": "570e2f9e-0192-4cb9-a1a4-7c76cd65176e"
      },
      "execution_count": null,
      "outputs": [
        {
          "output_type": "execute_result",
          "data": {
            "text/plain": [
              "[]"
            ]
          },
          "metadata": {},
          "execution_count": 42
        }
      ]
    },
    {
      "cell_type": "code",
      "source": [
        "x=[1,2,3]\n",
        "y=[10,20,30]\n",
        "z=[x,y]#to include tow listed sperated by coma\n",
        "print(z)\n",
        "u=x+y\n",
        "print(u)#to concatenate two lists"
      ],
      "metadata": {
        "colab": {
          "base_uri": "https://localhost:8080/"
        },
        "id": "DQnPLdx4XmNX",
        "outputId": "1d35d2b9-79d9-4749-efe2-7e0113560f3d"
      },
      "execution_count": null,
      "outputs": [
        {
          "output_type": "stream",
          "name": "stdout",
          "text": [
            "[[1, 2, 3], [10, 20, 30]]\n",
            "[1, 2, 3, 10, 20, 30]\n"
          ]
        }
      ]
    },
    {
      "cell_type": "markdown",
      "source": [
        "### *Accesing the element of a list*"
      ],
      "metadata": {
        "id": "drf_32QjYX8i"
      }
    },
    {
      "cell_type": "code",
      "source": [
        "#select the o th element of th list x\n",
        "print (x[0])\n",
        "print (l[0])"
      ],
      "metadata": {
        "colab": {
          "base_uri": "https://localhost:8080/"
        },
        "id": "3UOKoB5YYf_o",
        "outputId": "5e7f02ff-4c8a-4c4a-b28b-01dfb8a7316f"
      },
      "execution_count": null,
      "outputs": [
        {
          "output_type": "stream",
          "name": "stdout",
          "text": [
            "1\n",
            "my\n"
          ]
        }
      ]
    },
    {
      "cell_type": "code",
      "source": [
        "#select last element\n",
        "print(x[-1])\n",
        "print(l[-1])"
      ],
      "metadata": {
        "colab": {
          "base_uri": "https://localhost:8080/"
        },
        "id": "5DluLNlBYxwk",
        "outputId": "2db4209f-9e85-4319-be4c-e4dc3c96f949"
      },
      "execution_count": null,
      "outputs": [
        {
          "output_type": "stream",
          "name": "stdout",
          "text": [
            "3\n",
            "raj\n"
          ]
        }
      ]
    },
    {
      "cell_type": "code",
      "source": [
        "#select 1 st inclusive and 3rd exclusive\n",
        "#in the list range first value is included while last value is exclueded\n",
        "print(x[1:3])\n",
        "print(l[1:4])"
      ],
      "metadata": {
        "colab": {
          "base_uri": "https://localhost:8080/"
        },
        "id": "0n-tvhAfZOl7",
        "outputId": "c5fc465a-aa8d-4565-92b3-45b278a517fd"
      },
      "execution_count": null,
      "outputs": [
        {
          "output_type": "stream",
          "name": "stdout",
          "text": [
            "[2, 3]\n",
            "['fav', 'circketer', 'is']\n"
          ]
        }
      ]
    },
    {
      "cell_type": "code",
      "source": [
        "#select the 2 nd to the end last element\n",
        "print(x[2:])#last element will be shown only if it's not filled and left empty\n",
        "print(l[2:])"
      ],
      "metadata": {
        "colab": {
          "base_uri": "https://localhost:8080/"
        },
        "id": "f7NFFq-KZ2KS",
        "outputId": "6e7d3a34-8cc3-42b5-eeff-19e8683ecee6"
      },
      "execution_count": null,
      "outputs": [
        {
          "output_type": "stream",
          "name": "stdout",
          "text": [
            "[3]\n",
            "['circketer', 'is', 'rutu', 'raj']\n"
          ]
        }
      ]
    },
    {
      "cell_type": "code",
      "source": [
        "#select 0 to 3rd exclusive\n",
        "print(x[:3])\n",
        "print(l[:3])"
      ],
      "metadata": {
        "colab": {
          "base_uri": "https://localhost:8080/"
        },
        "id": "xp5wEsofafHz",
        "outputId": "f38f3a88-b2f6-4d1a-f1df-1d9908c2253e"
      },
      "execution_count": null,
      "outputs": [
        {
          "output_type": "stream",
          "name": "stdout",
          "text": [
            "[1, 2, 3]\n",
            "['my', 'fav', 'circketer']\n"
          ]
        }
      ]
    },
    {
      "cell_type": "code",
      "source": [
        "#list operation :coma,*,\n",
        "l=['my','fav','circketer','is']\n",
        "print(l*2)#\"*\" is scaling\n",
        "print(l+l)#\"+\" is  concatination"
      ],
      "metadata": {
        "colab": {
          "base_uri": "https://localhost:8080/"
        },
        "id": "q_5aWILfbYqU",
        "outputId": "7213403b-337e-40f7-c838-e3e5eb52cb79"
      },
      "execution_count": null,
      "outputs": [
        {
          "output_type": "stream",
          "name": "stdout",
          "text": [
            "['my', 'fav', 'circketer', 'is', 'my', 'fav', 'circketer', 'is']\n",
            "['my', 'fav', 'circketer', 'is', 'my', 'fav', 'circketer', 'is']\n"
          ]
        }
      ]
    },
    {
      "cell_type": "code",
      "source": [
        "#operation in python\n",
        "22//7 #integer divide a number with // comes as a wole no."
      ],
      "metadata": {
        "id": "9q6tGdWKeLg4"
      },
      "execution_count": null,
      "outputs": []
    },
    {
      "cell_type": "code",
      "source": [
        "22/7#divide a  number by another with / comes with points"
      ],
      "metadata": {
        "id": "9bIhyA8yePj4"
      },
      "execution_count": null,
      "outputs": []
    },
    {
      "cell_type": "code",
      "source": [
        "22%7#it is mod operator reminder is shown"
      ],
      "metadata": {
        "id": "NQGsnkc3eUVz"
      },
      "execution_count": null,
      "outputs": []
    },
    {
      "cell_type": "code",
      "source": [],
      "metadata": {
        "id": "Xh_pSaAAeW_w"
      },
      "execution_count": null,
      "outputs": []
    },
    {
      "cell_type": "markdown",
      "source": [
        "##*Assignment operator*"
      ],
      "metadata": {
        "id": "6SLurpFYeYsB"
      }
    },
    {
      "cell_type": "code",
      "source": [
        "a=5#aassign a value to a\n",
        "print(a)\n",
        "#x[0=1] WE CAN'T directly change the value un an empty list\n",
        "x = [10,20,31]#1st define a list and then change\n",
        "x[0]=88#change the value of an item in a list\n",
        "print(x)"
      ],
      "metadata": {
        "id": "iSnhWQsgeeq1"
      },
      "execution_count": null,
      "outputs": []
    },
    {
      "cell_type": "markdown",
      "source": [
        "##*Relational* *operators*"
      ],
      "metadata": {
        "id": "MchTUh0eejpi"
      }
    },
    {
      "cell_type": "code",
      "source": [
        "2==2 #test for equality with =="
      ],
      "metadata": {
        "colab": {
          "base_uri": "https://localhost:8080/"
        },
        "id": "W6PS_emEfVWc",
        "outputId": "d9a93e70-f1a4-49a7-de3d-9eb6ef51030a"
      },
      "execution_count": null,
      "outputs": [
        {
          "output_type": "execute_result",
          "data": {
            "text/plain": [
              "True"
            ]
          },
          "metadata": {},
          "execution_count": 4
        }
      ]
    },
    {
      "cell_type": "code",
      "source": [
        "31!=31 #test for inequality with !="
      ],
      "metadata": {
        "colab": {
          "base_uri": "https://localhost:8080/"
        },
        "id": "3F72FzS5fXo_",
        "outputId": "74aa2e92-4b24-4b38-d4b0-5ba744484eca"
      },
      "execution_count": null,
      "outputs": [
        {
          "output_type": "execute_result",
          "data": {
            "text/plain": [
              "False"
            ]
          },
          "metadata": {},
          "execution_count": 5
        }
      ]
    },
    {
      "cell_type": "code",
      "source": [
        "31>8 #test greater than with>"
      ],
      "metadata": {
        "colab": {
          "base_uri": "https://localhost:8080/"
        },
        "id": "9nSVoxRxfaD_",
        "outputId": "9a77f661-ed2c-49bd-b6ff-5f406dc0eeba"
      },
      "execution_count": null,
      "outputs": [
        {
          "output_type": "execute_result",
          "data": {
            "text/plain": [
              "True"
            ]
          },
          "metadata": {},
          "execution_count": 8
        }
      ]
    },
    {
      "cell_type": "code",
      "source": [
        "31>=31 #test greater than or equal to with>="
      ],
      "metadata": {
        "colab": {
          "base_uri": "https://localhost:8080/"
        },
        "id": "Ws0nusVyfcK7",
        "outputId": "0af075e0-43ce-4e51-cb2c-8ddef7744001"
      },
      "execution_count": null,
      "outputs": [
        {
          "output_type": "execute_result",
          "data": {
            "text/plain": [
              "True"
            ]
          },
          "metadata": {},
          "execution_count": 9
        }
      ]
    },
    {
      "cell_type": "code",
      "source": [
        "31<41 #test less than with<"
      ],
      "metadata": {
        "colab": {
          "base_uri": "https://localhost:8080/"
        },
        "id": "5C9Pk4eAfeMu",
        "outputId": "b9ca4f0b-b88b-4437-e6b7-e166d538408d"
      },
      "execution_count": null,
      "outputs": [
        {
          "output_type": "execute_result",
          "data": {
            "text/plain": [
              "True"
            ]
          },
          "metadata": {},
          "execution_count": 10
        }
      ]
    },
    {
      "cell_type": "code",
      "source": [
        "31<=41 #test less than or equal to with<="
      ],
      "metadata": {
        "colab": {
          "base_uri": "https://localhost:8080/"
        },
        "id": "4UquCxPZepmp",
        "outputId": "19ab2b41-c194-4aa6-ed9f-96a0b9c275db"
      },
      "execution_count": null,
      "outputs": [
        {
          "output_type": "execute_result",
          "data": {
            "text/plain": [
              "True"
            ]
          },
          "metadata": {},
          "execution_count": 11
        }
      ]
    },
    {
      "cell_type": "markdown",
      "source": [
        "##*logical operators*\n"
      ],
      "metadata": {
        "id": "I8HWtKhzgHiQ"
      }
    },
    {
      "cell_type": "code",
      "source": [
        "not(2==2)#not is compliment .ans will be compliment of ture ans"
      ],
      "metadata": {
        "colab": {
          "base_uri": "https://localhost:8080/"
        },
        "id": "5zqTJG4JgQ4m",
        "outputId": "955eaa8c-0586-4e6d-a7d5-d09532f914d5"
      },
      "execution_count": null,
      "outputs": [
        {
          "output_type": "execute_result",
          "data": {
            "text/plain": [
              "False"
            ]
          },
          "metadata": {},
          "execution_count": 12
        }
      ]
    },
    {
      "cell_type": "code",
      "source": [
        "(1==1)and(1<=1)#using AND logical operation .should satisfy both the condition"
      ],
      "metadata": {
        "colab": {
          "base_uri": "https://localhost:8080/"
        },
        "id": "wUMUvRPXgf60",
        "outputId": "aa384c4c-31f3-4dac-9473-d8658bb0cf2c"
      },
      "execution_count": null,
      "outputs": [
        {
          "output_type": "execute_result",
          "data": {
            "text/plain": [
              "True"
            ]
          },
          "metadata": {},
          "execution_count": 15
        }
      ]
    },
    {
      "cell_type": "code",
      "source": [
        "(1>=1)or(1<1)# any one condition is satisfied it shows ture"
      ],
      "metadata": {
        "colab": {
          "base_uri": "https://localhost:8080/"
        },
        "id": "eaKRymxhg3-_",
        "outputId": "df53613c-a953-4e82-bfd6-6c2f23472ffd"
      },
      "execution_count": null,
      "outputs": [
        {
          "output_type": "execute_result",
          "data": {
            "text/plain": [
              "True"
            ]
          },
          "metadata": {},
          "execution_count": 16
        }
      ]
    }
  ]
}