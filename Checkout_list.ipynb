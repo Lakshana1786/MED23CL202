{
  "nbformat": 4,
  "nbformat_minor": 0,
  "metadata": {
    "colab": {
      "provenance": [],
      "authorship_tag": "ABX9TyNU9keyORySudI8qS+Phzs3",
      "include_colab_link": true
    },
    "kernelspec": {
      "name": "python3",
      "display_name": "Python 3"
    },
    "language_info": {
      "name": "python"
    }
  },
  "cells": [
    {
      "cell_type": "markdown",
      "metadata": {
        "id": "view-in-github",
        "colab_type": "text"
      },
      "source": [
        "<a href=\"https://colab.research.google.com/github/Lakshana1786/MED23CL202/blob/main/Checkout_list.ipynb\" target=\"_parent\"><img src=\"https://colab.research.google.com/assets/colab-badge.svg\" alt=\"Open In Colab\"/></a>"
      ]
    },
    {
      "cell_type": "markdown",
      "source": [
        "##Grocery Shop Checkout system"
      ],
      "metadata": {
        "id": "0bmLsSbQpMQ-"
      }
    },
    {
      "cell_type": "code",
      "source": [
        "while Ture:\n",
        "  print(\"/n=== Grocery Store Menu ===\")\n",
        "  print(\"1.Add to Cart\")\n",
        "  print(\"2.Remove from Cart\")\n",
        "  print(\"3.View Cart\")\n",
        "  print(\"4.Show Products\")\n",
        "  print(\"5.Checkout and exit\")\n",
        "\n",
        "  choice = input(\"Enter choice:\")\n",
        "    if choice ==\"1\":\n",
        "      add_to_cart()\n",
        "    elif choice == \"2\":\n",
        "      remove_from_cart()\n",
        "    elif choice == \"3\":\n",
        "      view_cart():\n",
        "    elif choice == \"4\":\n",
        "      show_cart():\n",
        "    elif choice == \"5\":\n",
        "      checkout_and_exit():\n",
        "      #show cart()\n",
        "      print(\"Thank you for shopping!\")\n",
        "      break\n",
        "    else:\n",
        "      print(\"Invalid choice! Try again.\")"
      ],
      "metadata": {
        "id": "zeXZvNsVpYVb"
      },
      "execution_count": null,
      "outputs": []
    }
  ]
}