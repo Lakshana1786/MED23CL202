{
  "nbformat": 4,
  "nbformat_minor": 0,
  "metadata": {
    "colab": {
      "provenance": [],
      "authorship_tag": "ABX9TyPAnhc9gaHaaD9qoYzUr6SQ",
      "include_colab_link": true
    },
    "kernelspec": {
      "name": "python3",
      "display_name": "Python 3"
    },
    "language_info": {
      "name": "python"
    }
  },
  "cells": [
    {
      "cell_type": "markdown",
      "metadata": {
        "id": "view-in-github",
        "colab_type": "text"
      },
      "source": [
        "<a href=\"https://colab.research.google.com/github/Lakshana1786/MED23CL202/blob/main/Checkout_list.ipynb\" target=\"_parent\"><img src=\"https://colab.research.google.com/assets/colab-badge.svg\" alt=\"Open In Colab\"/></a>"
      ]
    },
    {
      "cell_type": "markdown",
      "source": [
        "##Grocery Shop Checkout system"
      ],
      "metadata": {
        "id": "0bmLsSbQpMQ-"
      }
    },
    {
      "cell_type": "code",
      "source": [
        "while Ture:\n",
        "  print(\"/n=== Grocery Store Menu ===\")\n",
        "  print(\"1.Add to Cart\")\n",
        "  print(\"2.Remove from Cart\")\n",
        "  print(\"3.View Cart\")\n",
        "  print(\"4.Show Products\")\n",
        "  print(\"5.Checkout and exit\")\n",
        "\n",
        "  choice = input(\"Enter choice:\")\n",
        "    if choice ==\"1\":\n",
        "      add_to_cart()\n",
        "    elif choice == \"2\":\n",
        "      remove_from_cart()\n",
        "    elif choice == \"3\":\n",
        "      view_cart():\n",
        "    elif choice == \"4\":\n",
        "      show_cart():\n",
        "    elif choice == \"5\":\n",
        "      checkout_and_exit():\n",
        "      show_cart()\n",
        "      print(\"Thank you for shopping!\")\n",
        "      break\n",
        "    else:\n",
        "      print(\"Invalid choice! Try again.\")"
      ],
      "metadata": {
        "id": "zeXZvNsVpYVb"
      },
      "execution_count": null,
      "outputs": []
    },
    {
      "cell_type": "code",
      "source": [
        "#Step 1:Available product and price\n",
        "#define a  new list products for listing the items\n",
        "products = [\"Milk\",\"Rice\",\"Coffee Powder\",\"Kitkat\"]\n",
        "cost=[45,300,75,30]\n",
        "\n",
        "#Define cart:entry\n",
        "cart=[]\n",
        "\n",
        "#displace the menu\n",
        "def show_products():\n",
        " print(\"\\n The available products\")\n",
        " for i ,item in enumerate(products):\n",
        "  print(f\"{i+1}.{item}-{cost[i]}\")\n",
        "show_products()"
      ],
      "metadata": {
        "colab": {
          "base_uri": "https://localhost:8080/"
        },
        "id": "Aw7pmXjKx9-q",
        "outputId": "e09763ea-9bb8-48e7-fe27-9c20a6ea0f89"
      },
      "execution_count": 6,
      "outputs": [
        {
          "output_type": "stream",
          "name": "stdout",
          "text": [
            "\n",
            " The available products\n",
            "1.Milk-45\n",
            "2.Rice-300\n",
            "3.Coffee Powder-75\n",
            "4.Kitkat-30\n"
          ]
        }
      ]
    },
    {
      "cell_type": "code",
      "source": [
        "#Add item to the cart\n",
        "def add_to_cart():\n",
        "  show_products()\n",
        "  choice=int(input(\"enter the product no. to add:\"))-1\n",
        "  if 0<=choice<len(products):\n",
        "    cart.append(choice)\n",
        "    print(f\"{products[choice]} added to the cart!\")\n",
        "  else:\n",
        "    print(\"invalid choice\")\n",
        "add_to_cart()"
      ],
      "metadata": {
        "colab": {
          "base_uri": "https://localhost:8080/"
        },
        "id": "nGvsBjbz0_pD",
        "outputId": "68746c4e-b11f-4d06-8754-ee9de4e36884"
      },
      "execution_count": 11,
      "outputs": [
        {
          "output_type": "stream",
          "name": "stdout",
          "text": [
            "\n",
            " The available products\n",
            "1.Milk-45\n",
            "2.Rice-300\n",
            "3.Coffee Powder-75\n",
            "4.Kitkat-30\n",
            "enter the product no. to add:4\n",
            "Kitkat added to the cart!\n"
          ]
        }
      ]
    },
    {
      "cell_type": "code",
      "source": [
        "#remove item from cart\n",
        "def remove_from_cart():\n",
        "  if not cart:\n",
        "    print(\"cart is empty\")\n",
        "    return\n",
        "  show_cart()\n",
        "  choice=int(input(\"enter the product no. to add:\"))-1\n",
        "  if 0<=choice<len(products):\n",
        "    cart.append(choice)\n",
        "    print(f\"{products[choice]} added to the cart!\")\n",
        "  else:\n",
        "    print(\"invalid choice\")\n",
        "add_to_cart()\n"
      ],
      "metadata": {
        "id": "nx8woZpr2V4T"
      },
      "execution_count": null,
      "outputs": []
    },
    {
      "cell_type": "code",
      "source": [
        "#show cart\n",
        "def show_cart():\n",
        "  if not cart:\n",
        "    print(\"cart is empty!\")\n",
        "    return\n",
        "  print(\"/n your cart:\")"
      ],
      "metadata": {
        "id": "oWNZFH7K3ZAa"
      },
      "execution_count": null,
      "outputs": []
    }
  ]
}