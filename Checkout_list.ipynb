{
  "cells": [
    {
      "cell_type": "markdown",
      "metadata": {
        "id": "view-in-github",
        "colab_type": "text"
      },
      "source": [
        "<a href=\"https://colab.research.google.com/github/Lakshana1786/MED23CL202/blob/main/Checkout_list.ipynb\" target=\"_parent\"><img src=\"https://colab.research.google.com/assets/colab-badge.svg\" alt=\"Open In Colab\"/></a>"
      ]
    },
    {
      "cell_type": "markdown",
      "metadata": {
        "id": "0bmLsSbQpMQ-"
      },
      "source": [
        "##Grocery Shop Checkout system"
      ]
    },
    {
      "cell_type": "code",
      "execution_count": null,
      "metadata": {
        "id": "zeXZvNsVpYVb"
      },
      "outputs": [],
      "source": [
        "while Ture:\n",
        "  print(\"/n=== Grocery Store Menu ===\")\n",
        "  print(\"1.Add to Cart\")\n",
        "  print(\"2.Remove from Cart\")\n",
        "  print(\"3.View Cart\")\n",
        "  print(\"4.Show Products\")\n",
        "  print(\"5.Checkout and exit\")\n",
        "\n",
        "  choice = input(\"Enter choice:\")\n",
        "      if choice == \"1\":\n",
        "      add_to_cart()\n",
        "    elif choice == \"2\":\n",
        "      remove_from_cart()\n",
        "    elif choice == \"3\":\n",
        "      view_cart():\n",
        "    elif choice == \"4\":\n",
        "      show_cart():\n",
        "    elif choice == \"5\":\n",
        "      checkout_and_exit():\n",
        "      show_cart()\n",
        "      print(\"Thank you for shopping!\")\n",
        "      break\n",
        "    else:\n",
        "      print(\"Invalid choice! Try again.\")"
      ]
    },
    {
      "cell_type": "code",
      "execution_count": null,
      "metadata": {
        "colab": {
          "base_uri": "https://localhost:8080/"
        },
        "id": "Aw7pmXjKx9-q",
        "outputId": "480316a1-4a42-4407-ddfb-2d3fbdb48551"
      },
      "outputs": [
        {
          "name": "stdout",
          "output_type": "stream",
          "text": [
            "\n",
            " The available products\n",
            "1.Milk-45\n",
            "2.Rice-300\n",
            "3.Coffee Powder-75\n",
            "4.Kitkat-30\n"
          ]
        }
      ],
      "source": [
        "#Step 1:Available product and price\n",
        "#define a  new list products for listing the items\n",
        "products = [\"Milk\",\"Rice\",\"Coffee Powder\",\"Kitkat\"]\n",
        "cost=[45,300,75,30]\n",
        "\n",
        "#Define cart:entry\n",
        "cart=[]\n",
        "\n",
        "#displace the menu\n",
        "def show_products():\n",
        " print(\"\\n The available products\")\n",
        " for i ,item in enumerate(products):\n",
        "  print(f\"{i+1}.{item}-{cost[i]}\")\n",
        "show_products()"
      ]
    },
    {
      "cell_type": "code",
      "execution_count": null,
      "metadata": {
        "colab": {
          "background_save": true,
          "base_uri": "https://localhost:8080/"
        },
        "id": "nGvsBjbz0_pD",
        "outputId": "1b09e367-9fde-4112-834b-816e71502034"
      },
      "outputs": [
        {
          "name": "stdout",
          "output_type": "stream",
          "text": [
            "\n",
            " The available products\n",
            "1.Milk-45\n",
            "2.Rice-300\n",
            "3.Coffee Powder-75\n",
            "4.Kitkat-30\n"
          ]
        }
      ],
      "source": [
        "#Add item to the cart\n",
        "def add_to_cart():\n",
        "  show_products()\n",
        "  choice=int(input(\"enter the product no. to add:\"))-1\n",
        "  if 0<=choice<len(products):\n",
        "    cart.append(choice)\n",
        "    print(f\"{products[choice]} added to the cart!\")\n",
        "  else:\n",
        "    print(\"invalid choice\")\n",
        "add_to_cart()"
      ]
    },
    {
      "cell_type": "code",
      "execution_count": null,
      "metadata": {
        "id": "nx8woZpr2V4T"
      },
      "outputs": [],
      "source": [
        "#remove item from cart\n",
        "def remove_from_cart():\n",
        "  if not cart:\n",
        "    print(\"cart is empty !\")\n",
        "    return\n",
        "  print(\"\\nYour cart:\")\n",
        "  total = 0\n",
        "  for i, product_index in enumerate(cart):\n",
        "    print(f\"{i+1}. {products[product_index]} - {cost[product_index]}\")\n",
        "    total += cost[product_index]\n",
        "\n",
        "  while True:\n",
        "    try:\n",
        "      choice = int(input(\"Enter the item number to remove (or 0 to cancel): \")) - 1\n",
        "      if choice == -1:\n",
        "        print(\"Removal cancelled.\")\n",
        "        return\n",
        "      if 0 <= choice < len(cart):\n",
        "        removed_item_index = cart.pop(choice)\n",
        "        print(f\"{products[removed_item_index]} removed from the cart!\")\n",
        "        break\n",
        "      else:\n",
        "        print(\"Invalid item number. Please try again.\")\n",
        "    except ValueError:\n",
        "      print(\"Invalid input. Please enter a number.\")"
      ]
    },
    {
      "cell_type": "code",
      "execution_count": null,
      "metadata": {
        "id": "oWNZFH7K3ZAa"
      },
      "outputs": [],
      "source": [
        "#show cart\n",
        "def show_cart():\n",
        "  if not cart:\n",
        "    print(\"Your cart is empty.\")\n",
        "    return\n",
        "\n",
        "  print(\"\\n--- Your Cart ---\")\n",
        "  total_cost = 0\n",
        "  for i, product_index in enumerate(cart):\n",
        "    product_name = products[product_index]\n",
        "    product_price = cost[product_index]\n",
        "    print(f\"{i+1}. {product_name} - ${product_price:.2f}\")\n",
        "    total_cost += product_price\n",
        "  print(f\"\\nTotal: ${total_cost:.2f}\")\n",
        "  print(\"-----------------\")\n",
        "\n",
        "def checkout_and_exit():\n",
        "  show_cart()\n",
        "  if cart:\n",
        "    print(\"\\nProceeding to checkout...\")\n",
        "    # Here you would add actual checkout logic (e.g., payment processing)\n",
        "    print(\"Checkout complete. Thank you for your purchase!\")\n",
        "  else:\n",
        "    print(\"\\nCannot checkout. Your cart is empty.\")\n",
        "  print(\"Exiting the Grocery Store application. Goodbye!\")\n",
        "  exit() # Exit the program"
      ]
    }
  ],
  "metadata": {
    "colab": {
      "provenance": [],
      "authorship_tag": "ABX9TyOMMD+uBBUFZCBn0HHqA5XS",
      "include_colab_link": true
    },
    "kernelspec": {
      "display_name": "Python 3",
      "name": "python3"
    },
    "language_info": {
      "name": "python"
    }
  },
  "nbformat": 4,
  "nbformat_minor": 0
}