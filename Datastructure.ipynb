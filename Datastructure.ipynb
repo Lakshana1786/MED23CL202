{
  "nbformat": 4,
  "nbformat_minor": 0,
  "metadata": {
    "colab": {
      "provenance": [],
      "authorship_tag": "ABX9TyPblYbDKMP5cSU40RAgJ0HS",
      "include_colab_link": true
    },
    "kernelspec": {
      "name": "python3",
      "display_name": "Python 3"
    },
    "language_info": {
      "name": "python"
    }
  },
  "cells": [
    {
      "cell_type": "markdown",
      "metadata": {
        "id": "view-in-github",
        "colab_type": "text"
      },
      "source": [
        "<a href=\"https://colab.research.google.com/github/Lakshana-hud/MED23CL202/blob/main/Datastructure.ipynb\" target=\"_parent\"><img src=\"https://colab.research.google.com/assets/colab-badge.svg\" alt=\"Open In Colab\"/></a>"
      ]
    },
    {
      "cell_type": "markdown",
      "source": [
        "Python inbulit datasturcture"
      ],
      "metadata": {
        "id": "R0V89r4ohiJI"
      }
    },
    {
      "cell_type": "markdown",
      "source": [
        "1.list"
      ],
      "metadata": {
        "id": "-JpbQNxhak0G"
      }
    },
    {
      "cell_type": "code",
      "source": [
        "my_list=[1,\"hello\",3.14]\n",
        "my_list"
      ],
      "metadata": {
        "colab": {
          "base_uri": "https://localhost:8080/"
        },
        "id": "qDcd_EP3a141",
        "outputId": "4663afc5-cb94-4beb-92e5-1dc41318e965"
      },
      "execution_count": null,
      "outputs": [
        {
          "output_type": "execute_result",
          "data": {
            "text/plain": [
              "[1, 'hello', 3.14]"
            ]
          },
          "metadata": {},
          "execution_count": 12
        }
      ]
    },
    {
      "cell_type": "markdown",
      "source": [
        "2.Tuples"
      ],
      "metadata": {
        "id": "K0fd-8IDkuCi"
      }
    },
    {
      "cell_type": "code",
      "source": [
        "my_tuples=[10,\"world\",3.14]\n",
        "my_tuples"
      ],
      "metadata": {
        "colab": {
          "base_uri": "https://localhost:8080/"
        },
        "id": "-9LbRacPbI5C",
        "outputId": "5dc1058f-d30c-4d84-999e-95687129a1cc"
      },
      "execution_count": null,
      "outputs": [
        {
          "output_type": "execute_result",
          "data": {
            "text/plain": [
              "[10, 'world', 3.14]"
            ]
          },
          "metadata": {},
          "execution_count": 13
        }
      ]
    },
    {
      "cell_type": "markdown",
      "source": [
        "3.Sets"
      ],
      "metadata": {
        "id": "vnITM6qulY2p"
      }
    },
    {
      "cell_type": "code",
      "source": [
        "my_set={1,2,3,2}\n",
        "my_set"
      ],
      "metadata": {
        "colab": {
          "base_uri": "https://localhost:8080/"
        },
        "id": "bW8yQzDSldTH",
        "outputId": "32b4a07c-27a6-4ac5-803e-ef755fedf13e"
      },
      "execution_count": null,
      "outputs": [
        {
          "output_type": "execute_result",
          "data": {
            "text/plain": [
              "{1, 2, 3}"
            ]
          },
          "metadata": {},
          "execution_count": 14
        }
      ]
    },
    {
      "cell_type": "markdown",
      "source": [
        "3.dictionaeries"
      ],
      "metadata": {
        "id": "I2iqQS_0lcX3"
      }
    },
    {
      "cell_type": "code",
      "source": [
        "my_dict={\"name\":\"ruturaj\", \"age\": 31 , \"grade\":'c'}\n",
        "my_dict"
      ],
      "metadata": {
        "colab": {
          "base_uri": "https://localhost:8080/"
        },
        "id": "IPaoQzzwlrJs",
        "outputId": "5644f717-35da-4a2c-c9a2-4cea0bf9e06c"
      },
      "execution_count": null,
      "outputs": [
        {
          "output_type": "execute_result",
          "data": {
            "text/plain": [
              "{'name': 'ruturaj', 'age': 31, 'grade': 'c'}"
            ]
          },
          "metadata": {},
          "execution_count": 15
        }
      ]
    },
    {
      "cell_type": "markdown",
      "source": [
        "List Operation"
      ],
      "metadata": {
        "id": "3xK0LJ7ob_eY"
      }
    },
    {
      "cell_type": "code",
      "source": [
        "x=[1,2,3,4,5]\n",
        "x.index(2)#for strings we should use'a'/\"as\""
      ],
      "metadata": {
        "colab": {
          "base_uri": "https://localhost:8080/"
        },
        "id": "-fL0Jua9cL9P",
        "outputId": "7589d065-e13c-4266-c11b-bb67388a9a65"
      },
      "execution_count": null,
      "outputs": [
        {
          "output_type": "execute_result",
          "data": {
            "text/plain": [
              "1"
            ]
          },
          "metadata": {},
          "execution_count": 16
        }
      ]
    },
    {
      "cell_type": "code",
      "source": [
        "x.count(4)#occurness"
      ],
      "metadata": {
        "colab": {
          "base_uri": "https://localhost:8080/"
        },
        "id": "mZloKphNmuEw",
        "outputId": "0d07190a-42d5-4ab1-a008-622f7cdccf1e"
      },
      "execution_count": null,
      "outputs": [
        {
          "output_type": "execute_result",
          "data": {
            "text/plain": [
              "1"
            ]
          },
          "metadata": {},
          "execution_count": 21
        }
      ]
    },
    {
      "cell_type": "code",
      "source": [
        "x.append(8)#adds a single element at end\n",
        "x"
      ],
      "metadata": {
        "colab": {
          "base_uri": "https://localhost:8080/"
        },
        "id": "CmBxCkzbnBBA",
        "outputId": "b39ae374-7b69-4746-fcde-196985fdc6bf"
      },
      "execution_count": null,
      "outputs": [
        {
          "output_type": "execute_result",
          "data": {
            "text/plain": [
              "[1, 2, 3, 4, 5, 6, 6, '!', '!', '!', 8]"
            ]
          },
          "metadata": {},
          "execution_count": 31
        }
      ]
    },
    {
      "cell_type": "code",
      "source": [
        "x.remove('!')#removes an element\n",
        "x"
      ],
      "metadata": {
        "colab": {
          "base_uri": "https://localhost:8080/"
        },
        "id": "iy8w8om4ndw-",
        "outputId": "5d792c00-3b8f-4ba4-a8e0-5b69b2b05abd"
      },
      "execution_count": null,
      "outputs": [
        {
          "output_type": "execute_result",
          "data": {
            "text/plain": [
              "[1, 2, 3, 4, 5, 6, 6, 8]"
            ]
          },
          "metadata": {},
          "execution_count": 34
        }
      ]
    },
    {
      "cell_type": "code",
      "source": [
        "x=[1,2,3,4,5,6]"
      ],
      "metadata": {
        "id": "Blmp7cjGoDrf"
      },
      "execution_count": null,
      "outputs": []
    },
    {
      "cell_type": "code",
      "source": [
        "x.reverse()\n",
        "x"
      ],
      "metadata": {
        "colab": {
          "base_uri": "https://localhost:8080/"
        },
        "id": "BpcaR30_oupu",
        "outputId": "9738d263-a737-46b8-bb5b-ed91f78e84cf"
      },
      "execution_count": null,
      "outputs": [
        {
          "output_type": "execute_result",
          "data": {
            "text/plain": [
              "[6, 5, 4, 3, 2, 1]"
            ]
          },
          "metadata": {},
          "execution_count": 44
        }
      ]
    },
    {
      "cell_type": "code",
      "source": [
        "x.extend('!')#add another list at end\n",
        "x"
      ],
      "metadata": {
        "colab": {
          "base_uri": "https://localhost:8080/"
        },
        "id": "_7ouEqWupH7z",
        "outputId": "f073b299-1135-4084-9158-0a20e224ad25"
      },
      "execution_count": null,
      "outputs": [
        {
          "output_type": "execute_result",
          "data": {
            "text/plain": [
              "[6, 5, 4, 3, 2, 1, '!']"
            ]
          },
          "metadata": {},
          "execution_count": 45
        }
      ]
    },
    {
      "cell_type": "code",
      "source": [
        "x.pop(-2)#delete an element by index"
      ],
      "metadata": {
        "colab": {
          "base_uri": "https://localhost:8080/"
        },
        "id": "zBg4WAaTc7Vj",
        "outputId": "ad819081-e038-4726-ffe9-b9c58df91b4d"
      },
      "execution_count": null,
      "outputs": [
        {
          "output_type": "execute_result",
          "data": {
            "text/plain": [
              "1"
            ]
          },
          "metadata": {},
          "execution_count": 46
        }
      ]
    },
    {
      "cell_type": "code",
      "source": [
        "x.insert(0,'!')\n",
        "x"
      ],
      "metadata": {
        "colab": {
          "base_uri": "https://localhost:8080/"
        },
        "id": "Kt4JjWB4peb1",
        "outputId": "b455cb4b-a518-4e3b-b769-caf326186238"
      },
      "execution_count": null,
      "outputs": [
        {
          "output_type": "execute_result",
          "data": {
            "text/plain": [
              "['!', '!', '!', 6, 5, 4, 3, 2, '!']"
            ]
          },
          "metadata": {},
          "execution_count": 57
        }
      ]
    },
    {
      "cell_type": "code",
      "source": [
        "x=[1,2,3,6,5]\n",
        "x.sort()\n",
        "x"
      ],
      "metadata": {
        "colab": {
          "base_uri": "https://localhost:8080/"
        },
        "id": "ao36X3r6qYT1",
        "outputId": "f9b31beb-274b-4b64-b1b5-e5f33a34e3e8"
      },
      "execution_count": null,
      "outputs": [
        {
          "output_type": "execute_result",
          "data": {
            "text/plain": [
              "[1, 2, 3, 5, 6]"
            ]
          },
          "metadata": {},
          "execution_count": 61
        }
      ]
    },
    {
      "cell_type": "markdown",
      "source": [
        "##string"
      ],
      "metadata": {
        "id": "_g5xMFD3s-rZ"
      }
    },
    {
      "cell_type": "code",
      "source": [
        "z=\"Ruturaj Gaikwad is the best batsmen \"\n",
        "z"
      ],
      "metadata": {
        "colab": {
          "base_uri": "https://localhost:8080/",
          "height": 35
        },
        "id": "oe7LEbKftBx0",
        "outputId": "e54aef6f-7aac-4b94-82f4-fc2b4f6b6769"
      },
      "execution_count": null,
      "outputs": [
        {
          "output_type": "execute_result",
          "data": {
            "text/plain": [
              "'Ruturaj Gaikwad is the best batsmen '"
            ],
            "application/vnd.google.colaboratory.intrinsic+json": {
              "type": "string"
            }
          },
          "metadata": {},
          "execution_count": 64
        }
      ]
    },
    {
      "cell_type": "code",
      "source": [
        "z[2]"
      ],
      "metadata": {
        "colab": {
          "base_uri": "https://localhost:8080/",
          "height": 35
        },
        "id": "6WtT7Ox6tT_N",
        "outputId": "f2fd17f5-ebb1-4d8c-c581-833c18a409f6"
      },
      "execution_count": null,
      "outputs": [
        {
          "output_type": "execute_result",
          "data": {
            "text/plain": [
              "'t'"
            ],
            "application/vnd.google.colaboratory.intrinsic+json": {
              "type": "string"
            }
          },
          "metadata": {},
          "execution_count": 66
        }
      ]
    },
    {
      "cell_type": "code",
      "source": [
        "z[0:15]#include first index and exclued last index"
      ],
      "metadata": {
        "colab": {
          "base_uri": "https://localhost:8080/",
          "height": 35
        },
        "id": "ka1Ee-Cztr2Q",
        "outputId": "aaf70a45-bb75-47e1-d281-68989fb59e95"
      },
      "execution_count": null,
      "outputs": [
        {
          "output_type": "execute_result",
          "data": {
            "text/plain": [
              "'Ruturaj Gaikwad'"
            ],
            "application/vnd.google.colaboratory.intrinsic+json": {
              "type": "string"
            }
          },
          "metadata": {},
          "execution_count": 70
        }
      ]
    },
    {
      "cell_type": "code",
      "source": [
        "z.upper()#uppercase"
      ],
      "metadata": {
        "colab": {
          "base_uri": "https://localhost:8080/",
          "height": 35
        },
        "id": "fQWYztGRuVpX",
        "outputId": "778819bd-5f55-469e-b3b0-b52ae0a4c772"
      },
      "execution_count": null,
      "outputs": [
        {
          "output_type": "execute_result",
          "data": {
            "text/plain": [
              "'RUTURAJ GAIKWAD IS THE BEST BATSMEN '"
            ],
            "application/vnd.google.colaboratory.intrinsic+json": {
              "type": "string"
            }
          },
          "metadata": {},
          "execution_count": 71
        }
      ]
    },
    {
      "cell_type": "code",
      "source": [
        "z.lower()"
      ],
      "metadata": {
        "colab": {
          "base_uri": "https://localhost:8080/",
          "height": 35
        },
        "id": "V50DnxP5ua2f",
        "outputId": "2be3bd63-6a89-4a00-8a16-ddca08b8c1d0"
      },
      "execution_count": null,
      "outputs": [
        {
          "output_type": "execute_result",
          "data": {
            "text/plain": [
              "'ruturaj gaikwad is the best batsmen '"
            ],
            "application/vnd.google.colaboratory.intrinsic+json": {
              "type": "string"
            }
          },
          "metadata": {},
          "execution_count": 72
        }
      ]
    },
    {
      "cell_type": "code",
      "source": [
        "z.count('a')"
      ],
      "metadata": {
        "colab": {
          "base_uri": "https://localhost:8080/"
        },
        "id": "nGsvfrkwueao",
        "outputId": "7aa80a35-3fc4-4c67-c755-fbd55ca15aa2"
      },
      "execution_count": null,
      "outputs": [
        {
          "output_type": "execute_result",
          "data": {
            "text/plain": [
              "4"
            ]
          },
          "metadata": {},
          "execution_count": 75
        }
      ]
    },
    {
      "cell_type": "code",
      "source": [
        "z.replace('m','z')"
      ],
      "metadata": {
        "colab": {
          "base_uri": "https://localhost:8080/",
          "height": 35
        },
        "id": "_2iMg6uduqkN",
        "outputId": "8d27b887-3a38-413a-ee45-82c841f8653d"
      },
      "execution_count": null,
      "outputs": [
        {
          "output_type": "execute_result",
          "data": {
            "text/plain": [
              "'Ruturaj Gaikwad is the best batszen '"
            ],
            "application/vnd.google.colaboratory.intrinsic+json": {
              "type": "string"
            }
          },
          "metadata": {},
          "execution_count": 86
        }
      ]
    },
    {
      "cell_type": "code",
      "source": [
        "z.strip()"
      ],
      "metadata": {
        "colab": {
          "base_uri": "https://localhost:8080/",
          "height": 35
        },
        "id": "xdqGcbCuvjwr",
        "outputId": "a875f64a-1f48-4d06-f8c0-59af4cad6fd6"
      },
      "execution_count": null,
      "outputs": [
        {
          "output_type": "execute_result",
          "data": {
            "text/plain": [
              "'Ruturaj Gaikwad is the best batsmen'"
            ],
            "application/vnd.google.colaboratory.intrinsic+json": {
              "type": "string"
            }
          },
          "metadata": {},
          "execution_count": 87
        }
      ]
    },
    {
      "cell_type": "markdown",
      "source": [
        "#11 August 2025"
      ],
      "metadata": {
        "id": "j5_R1bUkeGph"
      }
    },
    {
      "cell_type": "markdown",
      "source": [
        "#list Processing in Python\n",
        "\n",
        "Steps:\n",
        "\n",
        "\n",
        "1. Create a empty result list\n",
        "2. Keep a total variabke starting at 0.\n",
        "3. loo\n",
        "\n",
        "\n",
        "\n"
      ],
      "metadata": {
        "id": "YORmTN72eLXQ"
      }
    },
    {
      "cell_type": "code",
      "source": [
        "#running sum\n",
        "def runningsum(nums):\n",
        "  result=[]#empty list\n",
        "  total=0 #initialis total to zero\n",
        "  for n in nums:\n",
        "    total+=n#add the value to total\n",
        "    result.append(total) #append the sum to result list\n",
        "  return(result)\n",
        "\n",
        "print(runningsum([10,20,5,1]))"
      ],
      "metadata": {
        "colab": {
          "base_uri": "https://localhost:8080/"
        },
        "id": "oDarGaGteKsO",
        "outputId": "d760a5a5-6bcb-4f3b-f219-0694aae703b1"
      },
      "execution_count": null,
      "outputs": [
        {
          "output_type": "stream",
          "name": "stdout",
          "text": [
            "[10, 30, 35, 36]\n"
          ]
        }
      ]
    },
    {
      "cell_type": "code",
      "source": [
        "#normal sum\n",
        "def runningsum(nums):\n",
        "  result=0#empty list\n",
        "  total=0 #initialis total to zero\n",
        "  for n in nums:\n",
        "    result+=n#add the value to total\n",
        "000000000000000000  return(result)\n",
        "\n",
        "print(runningsum([10,20,5,1]))"
      ],
      "metadata": {
        "id": "gQlSkoPJh_xK"
      },
      "execution_count": null,
      "outputs": []
    },
    {
      "cell_type": "code",
      "source": [
        "#count even no.in list\n",
        "#sample input :[3,7,2,9,5]\n",
        "#expexted output:1\n",
        "\n",
        "def counteven(nums):\n",
        "  count=0\n",
        "  for n in nums:\n",
        "    if n % 2 == 0:\n",
        "      count +=1\n",
        "  return count\n",
        "print(counteven([3,7,2,9,4,5]))"
      ],
      "metadata": {
        "colab": {
          "base_uri": "https://localhost:8080/"
        },
        "id": "llczYWPWiLmQ",
        "outputId": "9328e193-c265-4a8b-b621-7fa4029db016"
      },
      "execution_count": null,
      "outputs": [
        {
          "output_type": "stream",
          "name": "stdout",
          "text": [
            "2\n"
          ]
        }
      ]
    },
    {
      "cell_type": "code",
      "source": [
        "#reverse a list\n",
        "#input:[1,2,3,4]\n",
        "#expected output:[4,3,2,1]\n",
        "def reverselist(nums):\n",
        "  return nums[::-1]\n",
        "print(reverselist([1,2,3,4]))\n",
        "\n",
        "##siling the list\n",
        "my_list=[10,5,1,0,-67]\n",
        "#the list sliced from te beginng to end , taking every second element\n",
        "print(my_list[::2])\n"
      ],
      "metadata": {
        "colab": {
          "base_uri": "https://localhost:8080/"
        },
        "id": "jWKs6e7ik5kD",
        "outputId": "0c352c5b-db08-4888-dabd-5241cb852ed0"
      },
      "execution_count": null,
      "outputs": [
        {
          "output_type": "stream",
          "name": "stdout",
          "text": [
            "[4, 3, 2, 1]\n",
            "[10, 1, -67]\n"
          ]
        }
      ]
    },
    {
      "cell_type": "code",
      "source": [
        "#input:[3,7,2,9,5]\n",
        "#expected output:9\n",
        "def findmax(nums):\n",
        "  max_num = nums[0]#assign first of list as maximum\n",
        "  for  n in nums:\n",
        "    if n > max_num:\n",
        "      max_num = n\n",
        "    return max_num\n",
        "\n",
        "print(findmax([3,7,2,9,5]))"
      ],
      "metadata": {
        "colab": {
          "base_uri": "https://localhost:8080/"
        },
        "id": "GdsFVev-ozwS",
        "outputId": "a9595ec4-cd9b-4f45-a2eb-bfaf48ddf59e"
      },
      "execution_count": null,
      "outputs": [
        {
          "output_type": "stream",
          "name": "stdout",
          "text": [
            "3\n"
          ]
        }
      ]
    },
    {
      "cell_type": "code",
      "source": [
        "#merge two sort\n",
        "#Input:[1,3,5],[2,4,6]\n",
        "def mergelist(list1,list2):\n",
        "  reutrn sorted (list1+list2)"
      ],
      "metadata": {
        "id": "jHZJkcFXraOI"
      },
      "execution_count": null,
      "outputs": []
    },
    {
      "cell_type": "code",
      "source": [
        "#square of a sorted list\n",
        "def sortedsquare(nums):\n",
        "  return sorted([x**2 for x in nums])\n",
        "  #list comprehension : define : a  list based on iteratablees that is\n",
        "   #[x**2 foe x in  nums]\n",
        "  #is defined to find square of elements in sorted list\n",
        "print(sortedsquare([-4,-1,0,3,-50]))"
      ],
      "metadata": {
        "colab": {
          "base_uri": "https://localhost:8080/"
        },
        "id": "wQAYfQkLsieH",
        "outputId": "7bb6c30c-4123-4b2d-f082-530b88a662aa"
      },
      "execution_count": null,
      "outputs": [
        {
          "output_type": "stream",
          "name": "stdout",
          "text": [
            "[0, 1, 9, 16, 2500]\n"
          ]
        }
      ]
    },
    {
      "cell_type": "code",
      "source": [
        "def maxdeposit(accounts):\n",
        "  return max(sum(cust)for cust in accounts)\n",
        "print(maxdeposit([[100,52],[3,60]]))"
      ],
      "metadata": {
        "colab": {
          "base_uri": "https://localhost:8080/"
        },
        "id": "qphRNm0ou2YZ",
        "outputId": "32ace295-55f0-44c7-bca6-2234fa351631"
      },
      "execution_count": null,
      "outputs": [
        {
          "output_type": "stream",
          "name": "stdout",
          "text": [
            "152\n"
          ]
        }
      ]
    },
    {
      "cell_type": "code",
      "source": [
        "from re import I\n",
        "def twosum(nums,target):\n",
        "  #define a sictonary , a key value pair\n",
        "  seen={}\n",
        "  for i,n in enumerate(nums):\n",
        "    diff=target-n\n",
        "    if diff in seen:\n",
        "      return[seen[diff],i]\n",
        "    seen[n]=i\n",
        "print(twosum([2,7,11,15],26))"
      ],
      "metadata": {
        "colab": {
          "base_uri": "https://localhost:8080/"
        },
        "id": "XZXXlHbsxtaS",
        "outputId": "4514097b-4f8b-4b30-c615-7d2a4437b2ae"
      },
      "execution_count": null,
      "outputs": [
        {
          "output_type": "stream",
          "name": "stdout",
          "text": [
            "[2, 3]\n"
          ]
        }
      ]
    }
  ]
}