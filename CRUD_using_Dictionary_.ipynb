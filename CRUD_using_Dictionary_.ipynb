{
  "nbformat": 4,
  "nbformat_minor": 0,
  "metadata": {
    "colab": {
      "provenance": [],
      "authorship_tag": "ABX9TyOirr0gTsQXFLRw1V0odNoC",
      "include_colab_link": true
    },
    "kernelspec": {
      "name": "python3",
      "display_name": "Python 3"
    },
    "language_info": {
      "name": "python"
    }
  },
  "cells": [
    {
      "cell_type": "markdown",
      "metadata": {
        "id": "view-in-github",
        "colab_type": "text"
      },
      "source": [
        "<a href=\"https://colab.research.google.com/github/Lakshana1786/MED23CL202/blob/main/CRUD_using_Dictionary_.ipynb\" target=\"_parent\"><img src=\"https://colab.research.google.com/assets/colab-badge.svg\" alt=\"Open In Colab\"/></a>"
      ]
    },
    {
      "cell_type": "code",
      "execution_count": null,
      "metadata": {
        "id": "qCmSWCo7nTHS"
      },
      "outputs": [],
      "source": []
    },
    {
      "cell_type": "markdown",
      "source": [
        "\n",
        "##Create (Add new key value pair)\n"
      ],
      "metadata": {
        "id": "aWOkfIGXoxhn"
      }
    },
    {
      "cell_type": "code",
      "source": [
        " student = {} #empty dictionary\n",
        " student[\"name\"] = \"Mahi\"\n",
        " student[\"age\"] = 44\n",
        " print(student)"
      ],
      "metadata": {
        "colab": {
          "base_uri": "https://localhost:8080/"
        },
        "id": "9QnNWA0wo7jO",
        "outputId": "ef30adac-d5bc-4502-ff4b-492c93142c85"
      },
      "execution_count": 1,
      "outputs": [
        {
          "output_type": "stream",
          "name": "stdout",
          "text": [
            "{'name': 'Mahi', 'age': 44}\n"
          ]
        }
      ]
    },
    {
      "cell_type": "markdown",
      "source": [
        "##Read"
      ],
      "metadata": {
        "id": "nnRBzIEYpoFX"
      }
    },
    {
      "cell_type": "code",
      "source": [
        "print(student[\"name\"]) #read the key\n",
        "print(student.get(\"age\"))"
      ],
      "metadata": {
        "colab": {
          "base_uri": "https://localhost:8080/"
        },
        "id": "Q_f2t2z-p2b1",
        "outputId": "006118e8-86e4-4d03-f2ac-b8411515a971"
      },
      "execution_count": 4,
      "outputs": [
        {
          "output_type": "stream",
          "name": "stdout",
          "text": [
            "Mahi\n",
            "44\n"
          ]
        }
      ]
    },
    {
      "cell_type": "code",
      "source": [
        "print(student.get(\"grade\"))"
      ],
      "metadata": {
        "colab": {
          "base_uri": "https://localhost:8080/"
        },
        "id": "elLjYi6CqsJ_",
        "outputId": "3024d318-2218-4206-a32f-e2275d4261e1"
      },
      "execution_count": 5,
      "outputs": [
        {
          "output_type": "stream",
          "name": "stdout",
          "text": [
            "None\n"
          ]
        }
      ]
    },
    {
      "cell_type": "code",
      "source": [
        "print(student.get(\"grade\",\"not available\"))"
      ],
      "metadata": {
        "colab": {
          "base_uri": "https://localhost:8080/"
        },
        "id": "z0jXr0rrqzvO",
        "outputId": "2d70b54a-d28f-4c86-812f-3dfac37a0173"
      },
      "execution_count": 6,
      "outputs": [
        {
          "output_type": "stream",
          "name": "stdout",
          "text": [
            "not available\n"
          ]
        }
      ]
    },
    {
      "cell_type": "markdown",
      "source": [
        "##Update"
      ],
      "metadata": {
        "id": "H9doeWmpq_RW"
      }
    },
    {
      "cell_type": "code",
      "source": [
        "student = {} #empty dictionary\n",
        "student[\"name\"] = \"Mahi\"\n",
        "student[\"age\"] = 44\n",
        "student[\"grade\"] = 'O'\n",
        "print(student)"
      ],
      "metadata": {
        "colab": {
          "base_uri": "https://localhost:8080/"
        },
        "id": "9UXIIt2XrBjG",
        "outputId": "1ae1f5a0-1195-4349-e5c0-835b854d2d99"
      },
      "execution_count": 9,
      "outputs": [
        {
          "output_type": "stream",
          "name": "stdout",
          "text": [
            "{'name': 'Mahi', 'age': 44, 'grade': 'O'}\n"
          ]
        }
      ]
    },
    {
      "cell_type": "markdown",
      "source": [
        "##Delete"
      ],
      "metadata": {
        "id": "Mf2w3zHMraQV"
      }
    },
    {
      "cell_type": "code",
      "source": [
        "del student[\"grade\"] #completely removes key and value\n",
        "print(student)"
      ],
      "metadata": {
        "colab": {
          "base_uri": "https://localhost:8080/"
        },
        "id": "XGCKuEUPrdV-",
        "outputId": "8405bbc0-e867-496c-c869-f62d9543fcca"
      },
      "execution_count": 10,
      "outputs": [
        {
          "output_type": "stream",
          "name": "stdout",
          "text": [
            "{'name': 'Mahi', 'age': 44}\n"
          ]
        }
      ]
    },
    {
      "cell_type": "code",
      "source": [
        "removed = student.pop(\"age\")\n",
        "#pop will delete the key , but value is present,\n",
        "#still cannot access the value\n",
        "print(student)\n",
        "print(removed)"
      ],
      "metadata": {
        "colab": {
          "base_uri": "https://localhost:8080/"
        },
        "id": "VqQZJRuErt-V",
        "outputId": "a036b458-946e-4234-b0b1-2add2cf016cc"
      },
      "execution_count": 11,
      "outputs": [
        {
          "output_type": "stream",
          "name": "stdout",
          "text": [
            "{'name': 'Mahi'}\n",
            "44\n"
          ]
        }
      ]
    },
    {
      "cell_type": "markdown",
      "source": [
        "#Quick Summary\n",
        "\n",
        "\n",
        "* C (Create) = dict[key]=value\n",
        "* R (Read) = dict[key\n",
        "*   List item\n",
        "\n",
        "\n",
        "\n"
      ],
      "metadata": {
        "id": "p4YS_FE5sxCH"
      }
    },
    {
      "cell_type": "markdown",
      "source": [
        "#Nested Dictionary"
      ],
      "metadata": {
        "id": "rDYaxoYLujFO"
      }
    },
    {
      "cell_type": "code",
      "source": [
        "student = {\n",
        "    \"prathyusha\":{\"maths\":\"89\",\"science\":\"90\",\"english\":\"98\"},\n",
        "    \"rhys\":{\"maths\":\"78\",\"science\":\"88\",\"english\":\"47\"},\n",
        "    \"ava\":{\"maths\":\"68\",\"science\":\"76\",\"english\":\"80\"},\n",
        "    \"josh\":{\"maths\":\"99\",\"science\":\"90\",\"english\":\"78\"},\n",
        "    \"alex\":{\"maths\":\"89\",\"science\":\"90\",\"english\":\"98\"}\n",
        "}\n",
        "print(student)"
      ],
      "metadata": {
        "colab": {
          "base_uri": "https://localhost:8080/"
        },
        "id": "WJjZp9dxuiwG",
        "outputId": "3ba9dab4-1f58-46a8-8bd0-5e9b27b4d6ee"
      },
      "execution_count": 22,
      "outputs": [
        {
          "output_type": "stream",
          "name": "stdout",
          "text": [
            "{'prathyusha': {'maths': '89', 'science': '90', 'english': '98'}, 'rhys': {'maths': '78', 'science': '88', 'english': '47'}, 'ava': {'maths': '68', 'science': '76', 'english': '80'}, 'josh': {'maths': '99', 'science': '90', 'english': '78'}, 'alex': {'maths': '89', 'science': '90', 'english': '98'}}\n"
          ]
        }
      ]
    },
    {
      "cell_type": "markdown",
      "source": [],
      "metadata": {
        "id": "wgH5XMtcv7wu"
      }
    }
  ]
}